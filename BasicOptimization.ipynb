{
  "nbformat": 4,
  "nbformat_minor": 0,
  "metadata": {
    "colab": {
      "name": "BasicOptimization.ipynb",
      "private_outputs": true,
      "provenance": [],
      "authorship_tag": "ABX9TyM8rg9BogQm3GhyBD/hMG1q",
      "include_colab_link": true
    },
    "kernelspec": {
      "name": "python3",
      "display_name": "Python 3"
    },
    "language_info": {
      "name": "python"
    }
  },
  "cells": [
    {
      "cell_type": "markdown",
      "metadata": {
        "id": "view-in-github",
        "colab_type": "text"
      },
      "source": [
        "<a href=\"https://colab.research.google.com/github/rodelafue/MLBI/blob/master/BasicOptimization.ipynb\" target=\"_parent\"><img src=\"https://colab.research.google.com/assets/colab-badge.svg\" alt=\"Open In Colab\"/></a>"
      ]
    },
    {
      "cell_type": "code",
      "metadata": {
        "id": "LT-Vo1vad3N5"
      },
      "source": [
        "!pip install tensorflow==1.14"
      ],
      "execution_count": null,
      "outputs": []
    },
    {
      "cell_type": "code",
      "metadata": {
        "id": "EmMsbTm0dMRA"
      },
      "source": [
        "import os\n",
        "os.environ['TF_CPP_MIN_LOG_LEVEL']='2' # INFO AND WARNING\n",
        "import tensorflow as tf \n",
        "print(tf.__version__)"
      ],
      "execution_count": null,
      "outputs": []
    },
    {
      "cell_type": "code",
      "metadata": {
        "id": "6FJVF9KQdW4y"
      },
      "source": [
        "import tensorflow.contrib.eager as tfe \n",
        "tfe.enable_eager_execution()\n",
        "print(\"Eager mode: \", tf.executing_eagerly())\n",
        "print(\"GPU is\", \"available\" if tf.config.experimental.list_physical_devices(\"GPU\") else \"NOT AVAILABLE\")"
      ],
      "execution_count": null,
      "outputs": []
    },
    {
      "cell_type": "code",
      "metadata": {
        "id": "8T5IQF_idbzh"
      },
      "source": [
        "x = tfe.Variable(2.0, dtype = tf.float32, trainable=True) \n",
        "y = tf.constant(7, shape=(), dtype=tf.float32, name='y') \n",
        "\n",
        "def loss(x, y):\n",
        "    return (y - x ** 2) ** 2\n",
        "\n",
        "grad = tfe.implicit_gradients(loss)\n",
        "print(loss(x=x, y=y))  \n",
        "print(grad(x=x, y=y))"
      ],
      "execution_count": null,
      "outputs": []
    },
    {
      "cell_type": "code",
      "metadata": {
        "id": "F4m29xATdlET"
      },
      "source": [
        "tf.compat.v1.disable_eager_execution()\n",
        "print(\"Eager mode: \", tf.executing_eagerly())\n",
        "\n",
        "#$$$$$$$$$$$$$$$$$$$$$$$$$$$$$$$$$$$$$$$$$$$\n",
        "# Example\n",
        "\n",
        "# CONSTANTS\n",
        "a = tf.constant(3, name='a', dtype=tf.float32)\n",
        "\n",
        "# VARIABLES\n",
        "x = tf.Variable(5, name='x', dtype=tf.float32) # expected: [tf.float32, tf.float64, tf.float16, tf.bfloat16]\n",
        "y = tf.Variable(3, name='y', dtype=tf.float32)\n",
        "z = tf.Variable(2, name='z', dtype=tf.float32)\n",
        "\n",
        "# OPERATIONS\n",
        "u = tf.multiply(y, z, name='u_mult')\n",
        "v = tf.add(u, x, name='v_add')   # f(x,y,z)= a*((y*z)+ x)\n",
        "j = tf.multiply(v,a,'j_mult') \n",
        "\n",
        "# Initializing the variables\n",
        "init = tf.compat.v1.global_variables_initializer()\n",
        "opt = tf.train.GradientDescentOptimizer(0.1).minimize(j)\n",
        "\n",
        "# Launch the graph\n",
        "with tf.compat.v1.Session() as sess:\n",
        "    sess.run(init)\n",
        "    for i in range(300):\n",
        "        print(\"x = %.4f, y = %.4f, z = %.4f, loss = %.4f \" % (x.eval(), y.eval(), z.eval(), j.eval()))\n",
        "        sess.run(opt)"
      ],
      "execution_count": null,
      "outputs": []
    }
  ]
}