{
  "nbformat": 4,
  "nbformat_minor": 0,
  "metadata": {
    "colab": {
      "name": "TensorFlow2FunctionMinimization.ipynb",
      "private_outputs": true,
      "provenance": [],
      "authorship_tag": "ABX9TyM6Ie82STj4CmW+RzYxZfL8",
      "include_colab_link": true
    },
    "kernelspec": {
      "name": "python3",
      "display_name": "Python 3"
    },
    "language_info": {
      "name": "python"
    }
  },
  "cells": [
    {
      "cell_type": "markdown",
      "metadata": {
        "id": "view-in-github",
        "colab_type": "text"
      },
      "source": [
        "<a href=\"https://colab.research.google.com/github/rodelafue/MLBI/blob/master/TensorFlow2FunctionMinimization.ipynb\" target=\"_parent\"><img src=\"https://colab.research.google.com/assets/colab-badge.svg\" alt=\"Open In Colab\"/></a>"
      ]
    },
    {
      "cell_type": "code",
      "metadata": {
        "id": "YyEz-k5Ayhdw"
      },
      "source": [
        "import os\n",
        "import logging\n",
        "import numpy as np\n",
        "from datetime import datetime\n",
        "\n",
        "os.environ['TF_CPP_MIN_VLOG_LEVEL'] = '0'\n",
        "os.environ['TF_CPP_MIN_LOG_LEVEL'] = '3'\n",
        "logging.getLogger(\"tensorflow\").setLevel(logging.WARNING)\n",
        "\n",
        "import tensorflow as tf\n",
        "from tensorflow.python.training import gradient_descent\n",
        "print(\"Version: \", tf.__version__)"
      ],
      "execution_count": null,
      "outputs": []
    },
    {
      "cell_type": "code",
      "metadata": {
        "id": "auKzU-bWyDEX"
      },
      "source": [
        "# The function to be traced.\n",
        "\n",
        "@tf.function\n",
        "def my_persistent_function(x, y):\n",
        "    a = tf.constant(2, shape=(), dtype=tf.float32, name='a') \n",
        "    b = tf.constant(3, shape=(), dtype=tf.float32, name='b')\n",
        "    c = tf.constant(3, shape=(), dtype=tf.float32, name='c')\n",
        "    return  a*x**2 + b*x*y + c*y**2\n",
        "    \n",
        "# Set up logging.\n",
        "stamp = datetime.now().strftime(\"%Y%m%d-%H%M%S\")\n",
        "logdir = 'logs\\\\altogether\\\\%s' % stamp\n",
        "writer = tf.summary.create_file_writer(logdir)\n",
        "\n",
        "# Sample data for your function.\n",
        "x = tf.Variable(2, dtype=tf.float32, name=\"x\") \n",
        "y = tf.Variable(2, dtype=tf.float32, name=\"y\")\n",
        "\n",
        "# Bracket the function call with\n",
        "\n",
        "# Call only one tf.function when tracing.\n",
        "#z = my_persistent_function(x, y)\n",
        "#tensorboard --logdir=\"YOUR\\PATH\\TO_DIR\""
      ],
      "execution_count": null,
      "outputs": []
    },
    {
      "cell_type": "code",
      "metadata": {
        "id": "xI3wt4zaytPD"
      },
      "source": [
        "# Bracket the function call with\n",
        "trainable_variables = [x, y]\n",
        "opt = tf.optimizers.Adam(learning_rate=0.1)\n",
        "with writer.as_default():\n",
        "    tf.summary.trace_on(graph=True, profiler=True)\n",
        "    for step in tf.range(100, dtype=tf.int64):\n",
        "        with tf.GradientTape() as tape:\n",
        "            loss = my_persistent_function(x=x, y=y)\n",
        "            gradients = tape.gradient(loss, trainable_variables)\n",
        "            if step.numpy() % 10 == 0:\n",
        "                tf.summary.scalar('loss', loss, step=step.numpy())\n",
        "                tf.summary.scalar('x', x, step=step.numpy())\n",
        "                tf.summary.scalar('y', y, step=step.numpy())\n",
        "        print(\"x = %.4f, y = %.4f, loss = %.4f \" % (x.numpy(), y.numpy(), loss.numpy()))\n",
        "        opt.apply_gradients(zip(gradients, trainable_variables))\n",
        "    tf.summary.trace_export(name = \"my_persistent\", step = step, profiler_outdir = logdir)\n",
        "writer.close()\n"
      ],
      "execution_count": null,
      "outputs": []
    }
  ]
}