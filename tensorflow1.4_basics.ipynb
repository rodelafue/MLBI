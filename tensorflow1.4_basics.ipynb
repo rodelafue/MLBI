{
  "nbformat": 4,
  "nbformat_minor": 0,
  "metadata": {
    "colab": {
      "name": "Untitled3.ipynb",
      "private_outputs": true,
      "provenance": [],
      "authorship_tag": "ABX9TyN4j1Sqsqthrv49vV7iw+Hc",
      "include_colab_link": true
    },
    "kernelspec": {
      "name": "python3",
      "display_name": "Python 3"
    },
    "language_info": {
      "name": "python"
    }
  },
  "cells": [
    {
      "cell_type": "markdown",
      "metadata": {
        "id": "view-in-github",
        "colab_type": "text"
      },
      "source": [
        "<a href=\"https://colab.research.google.com/github/rodelafue/MLBI/blob/master/tensorflow1.4_basics.ipynb\" target=\"_parent\"><img src=\"https://colab.research.google.com/assets/colab-badge.svg\" alt=\"Open In Colab\"/></a>"
      ]
    },
    {
      "cell_type": "code",
      "metadata": {
        "id": "_BZE0PP9lBCP"
      },
      "source": [
        "!pip3 install tensorflow==1.14.0 "
      ],
      "execution_count": null,
      "outputs": []
    },
    {
      "cell_type": "code",
      "metadata": {
        "id": "asLtbfDJjoUX"
      },
      "source": [
        "import os\n",
        "os.environ['TF_CPP_MIN_LOG_LEVEL'] = '3'\n",
        "import tensorflow as tf\n",
        "import tensorflow.contrib.eager as tfe \n",
        "tfe.enable_eager_execution()"
      ],
      "execution_count": null,
      "outputs": []
    },
    {
      "cell_type": "code",
      "metadata": {
        "id": "3ZawNm-ojxno"
      },
      "source": [
        "'''\n",
        "Tensors in Tensorflow\n",
        "\n",
        "0-d tensor: scalar (number) \n",
        "1-d tensor: vector\n",
        "2-d tensor: matrix\n",
        "n-d tenso: nd_array\n",
        "'''\n",
        "\n",
        "# Constants\n",
        "a = tf.constant(20, shape=(), dtype=tf.float32, name='a') \n",
        "b = tf.constant(15, shape=(), dtype=tf.int8, name='b')\n",
        "x = tf.divide(a, tf.cast(b, dtype=tf.float32), name='divide_a/b')\n",
        "\n",
        "for i, j in zip(['a','b','x'],[a,b,x]):\n",
        "    print(i+' = ', j.numpy())"
      ],
      "execution_count": null,
      "outputs": []
    },
    {
      "cell_type": "code",
      "metadata": {
        "id": "C8L5I79zmH_m"
      },
      "source": [
        "a = tf.constant(2, shape=(3,1), name='a') \n",
        "b = tf.constant([[0, 1], [2, 3], [2, 3]], dtype=tf.float32, name='b') \n",
        "x = tf.multiply(tf.cast(a, dtype=tf.float32), b, name='mul_ab')\n",
        "\n",
        "print(x)"
      ],
      "execution_count": null,
      "outputs": []
    },
    {
      "cell_type": "code",
      "metadata": {
        "id": "kMgs07HNmdnx"
      },
      "source": [
        "a_ = tf.constant([[1,3]], name='a') \n",
        "b_ = tf.constant([[0, 1], [2, 3]], dtype=tf.float32, name='b') \n",
        "x_ = tf.multiply(tf.cast(a_, dtype=tf.float32), b_, name='mul_ab_') # This will give you an error\n",
        "print(x_)"
      ],
      "execution_count": null,
      "outputs": []
    },
    {
      "cell_type": "code",
      "metadata": {
        "id": "l_R0kBk2j2l2"
      },
      "source": [
        "# Random Variables\n",
        "seed = tf.compat.v1.set_random_seed(10)\n",
        "help(tf.random_normal)\n",
        "\n",
        "x = tf.random_normal(shape=[8], mean=20, stddev=5, dtype=tf.float32, seed=seed, name='rand_norm')\n",
        "print(x)\n",
        "\n"
      ],
      "execution_count": null,
      "outputs": []
    },
    {
      "cell_type": "code",
      "metadata": {
        "id": "3ZEdGZJpkDEO"
      },
      "source": [
        "# Filling with either zeros or ones\n",
        "input_tensor = tf.ones(shape=(3,3), dtype=tf.float32, name=None)\n",
        "another_input = tf.ones_like(input_tensor, dtype=None, name=None, optimize=True)\n",
        "x = tf.add(input_tensor, another_input) \n",
        "print(x)\n",
        "y = tf.multiply(input_tensor, another_input)\n",
        "print(y)\n",
        "z = tf.matmul(input_tensor, another_input, name='mat_mult')\n",
        "print(z)\n",
        "\n",
        "bin_mat = [[True, True, True],  [True, True, True],  [True, True, True]]\n",
        "zeros = tf.zeros_like(bin_mat, dtype=tf.int8, name=None, optimize=True)\n",
        "print(zeros)\n",
        "zeros = tf.zeros_like(bin_mat, dtype=None, name=None, optimize=True)\n",
        "print(zeros)"
      ],
      "execution_count": null,
      "outputs": []
    },
    {
      "cell_type": "code",
      "metadata": {
        "id": "Ji-4ZM5WkNDn"
      },
      "source": [
        "#$$$$$$$$$$$$$$$$$$$$$$$$$$$$$$$\n",
        "# Variables\n",
        "with tf.variable_scope(\"scope1\"):\n",
        "  s = tf.Variable(2, name=\"scalar\") \n",
        "  print('s = ', s)\n",
        "  m = tf.Variable([[0, 1], [2, 3]], name=\"matrix\") \n",
        "  print('m = ', m)\n",
        "  W = tf.Variable(tf.zeros([5,5]))\n",
        "  print('W = ', W)"
      ],
      "execution_count": null,
      "outputs": []
    },
    {
      "cell_type": "code",
      "metadata": {
        "id": "J02fKtdUrMIf"
      },
      "source": [
        "# create variables with tf.get_variable \n",
        "s = tf.get_variable(\"scalar\", initializer=tf.constant(2,dtype=tf.float32), dtype=tf.float32) \n",
        "print('s = ', s)\n",
        "m = tf.get_variable(\"matrix\", initializer=tf.constant([[0, 1], [2, 3]],dtype=tf.float32),dtype=tf.float32) \n",
        "print('m = ', m)\n",
        "W = tf.get_variable(\"big_matrix\", shape=(5, 5),dtype=tf.float32, initializer=tf.zeros_initializer())\n",
        "print('W = ', W)"
      ],
      "execution_count": null,
      "outputs": []
    },
    {
      "cell_type": "code",
      "metadata": {
        "id": "WSF8G_JBqDK9"
      },
      "source": [
        "tf.compat.v1.disable_eager_execution()"
      ],
      "execution_count": null,
      "outputs": []
    },
    {
      "cell_type": "code",
      "metadata": {
        "id": "BZK0YEsKkduK"
      },
      "source": [
        "#$$$$$$$$$$$$$$$$$$$$$$$$$$$$$$$\n",
        "# Sessions\n",
        "s = tf.get_variable(\"sa\", initializer=tf.constant(100), trainable=True)\n",
        "t = tf.get_variable(\"ma\", initializer=tf.constant(2, shape=(2,1), name='a'))"
      ],
      "execution_count": null,
      "outputs": []
    },
    {
      "cell_type": "code",
      "metadata": {
        "id": "pZURuO2bw9UC"
      },
      "source": [
        "sess1 = tf.Session() \n",
        "sess1.run([s.initializer,t.initializer]) \n",
        "print('multiply s and t = ',sess1.run(tf.multiply(s,t)))\n",
        "print('add 50 to s = ',sess1.run(s.assign_add(50)))\n",
        "print('multiply s and t = ',sess1.run(tf.multiply(s,t)))\n",
        "sess1.close()"
      ],
      "execution_count": null,
      "outputs": []
    },
    {
      "cell_type": "code",
      "metadata": {
        "id": "Tu5rkYlp2XsP"
      },
      "source": [
        "init = tf.compat.v1.global_variables_initializer()\n",
        "sess2 = tf.Session()\n",
        "sess2.run(init)\n",
        "print(sess2.run(tf.multiply(s,t))) \n",
        "sess2.close()"
      ],
      "execution_count": null,
      "outputs": []
    },
    {
      "cell_type": "code",
      "metadata": {
        "id": "KvbgEXCa2fLx"
      },
      "source": [
        "#$$$$$$$$$$$$$$$$$$$$$$$$$$$$$$\n",
        "# Placeholders = Think about them as the formal parameters defined in a function\n",
        "\n",
        "a = tf.placeholder(tf.float32, shape=[3])\n",
        "b = tf.constant([5, 5, 5], tf.float32)\n",
        "c = tf.multiply(a, b)\n",
        "with tf.Session() as sess:\n",
        "    print(sess.run(c, {a: [1, 2, 3]}))"
      ],
      "execution_count": null,
      "outputs": []
    }
  ]
}